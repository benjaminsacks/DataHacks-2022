{
 "cells": [
  {
   "cell_type": "code",
   "execution_count": null,
   "metadata": {},
   "outputs": [],
   "source": [
    "import pandas as pd\n",
    "import numpy as np\n",
    "import matplotlib.pyplot as plt\n",
    "\n",
    "import regex as re\n",
    "import string\n",
    "from collections import defaultdict\n",
    "\n",
    "from sklearn import linear_model\n",
    "from sklearn.model_selection import train_test_split\n",
    "from sklearn.feature_extraction.text import TfidfVectorizer"
   ]
  },
  {
   "cell_type": "code",
   "execution_count": null,
   "metadata": {},
   "outputs": [],
   "source": [
    "dirty_df = pd.read_csv('data/advanced_trainset.csv')"
   ]
  },
  {
   "cell_type": "code",
   "execution_count": null,
   "metadata": {},
   "outputs": [],
   "source": [
    "dirty_df.Sentiment.value_counts().plot(kind='bar')"
   ]
  },
  {
   "cell_type": "code",
   "execution_count": null,
   "metadata": {},
   "outputs": [],
   "source": [
    "def clean_sentence(s):\n",
    "    # To lowercase\n",
    "    s = s.lower()\n",
    "\n",
    "    # Remove apostrophes\n",
    "    s = re.sub(' \\'s', '', s)\n",
    "\n",
    "    # Fix % and $ whitespace\n",
    "    s = re.sub('(?<=\\d) %', '%', s)\n",
    "    s = re.sub('\\$ (?=\\d)', '$', s)\n",
    "\n",
    "    # Remove links\n",
    "    s = re.sub('http\\S+', ' ', s)\n",
    "\n",
    "    # Remove .'s not surrounded by numbers\n",
    "    s = re.sub('(?<!\\d)\\.|\\,(?!\\d)', ' ', s)\n",
    "\n",
    "    # Remove punctuation\n",
    "    s = re.sub('-|\\(|\\)', ' ', s)\n",
    "    s = re.sub('\\'|\\,|\\`', '', s)\n",
    "\n",
    "    # Remove extra whitespace\n",
    "    s = re.sub(' +', ' ', s)\n",
    "\n",
    "    return s"
   ]
  },
  {
   "cell_type": "code",
   "execution_count": null,
   "metadata": {},
   "outputs": [],
   "source": [
    "df = dirty_df.copy(deep=True)\n",
    "df['Sentence'] = df['Sentence'].apply(clean_sentence)\n",
    "df[\"Sentiment\"] = df['Sentiment'].map({'negative': -1, 'neutral': 0, 'positive': 1})\n",
    "df"
   ]
  },
  {
   "cell_type": "code",
   "execution_count": null,
   "metadata": {},
   "outputs": [],
   "source": [
    "def create_ngrams(s, n):\n",
    "    words = s.split()\n",
    "    ngrams = []\n",
    "    for i in range(n):\n",
    "        to_zip = []\n",
    "        for j in range(i + 1):\n",
    "            start = j\n",
    "            end = (-i + j)\n",
    "\n",
    "            if start == 0 and end == 0:\n",
    "                ngrams.append(words)\n",
    "            elif start == 0:\n",
    "                to_zip.append(words[:end])\n",
    "            elif end == 0:\n",
    "                to_zip.append(words[start:])\n",
    "            else:\n",
    "                to_zip.append(words[start:end])\n",
    "        if i > 0:\n",
    "            ngrams.append([' '.join(x) for x in list(zip(*to_zip))])\n",
    "        \n",
    "    return sum(ngrams, [])\n",
    "\n",
    "create_ngrams('a b c d', 3)"
   ]
  },
  {
   "cell_type": "code",
   "execution_count": null,
   "metadata": {},
   "outputs": [],
   "source": [
    "df['ngrams'] = df['Sentence'].apply(create_ngrams, n=3)\n",
    "df.head()"
   ]
  },
  {
   "cell_type": "code",
   "execution_count": null,
   "metadata": {},
   "outputs": [],
   "source": [
    "X_train, X_test, y_train, y_test = train_test_split(df.ngrams, df.Sentiment)"
   ]
  },
  {
   "cell_type": "code",
   "execution_count": null,
   "metadata": {},
   "outputs": [],
   "source": [
    "wordCount = defaultdict(int)\n",
    "for s in df.Sentence:\n",
    "    for w in create_ngrams(s, 3):\n",
    "        wordCount[w] += 1\n",
    "\n",
    "counts = [(wordCount[w], w) for w in wordCount]\n",
    "counts.sort()\n",
    "counts.reverse()"
   ]
  },
  {
   "cell_type": "code",
   "execution_count": null,
   "metadata": {},
   "outputs": [],
   "source": [
    "words = [x[1] for x in counts[:1000]]\n",
    "wordId = dict(zip(words, range(len(words))))"
   ]
  },
  {
   "cell_type": "code",
   "execution_count": null,
   "metadata": {},
   "outputs": [],
   "source": [
    "def feature(ng):\n",
    "    feat = [0]*len(words)\n",
    "    for w in ng:\n",
    "        if w in words:\n",
    "            feat[wordId[w]] += 1\n",
    "    feat.append(1) #offset\n",
    "    return feat"
   ]
  },
  {
   "cell_type": "code",
   "execution_count": null,
   "metadata": {},
   "outputs": [],
   "source": [
    "X_train = [feature(ng) for ng in X_train]\n",
    "X_test = [feature(ng) for ng in X_test]"
   ]
  },
  {
   "cell_type": "code",
   "execution_count": null,
   "metadata": {},
   "outputs": [],
   "source": [
    "# Regularized regression\n",
    "clf = linear_model.Ridge(1.0, fit_intercept=False) # MSE + 1.0 l2\n",
    "clf.fit(X_train, y_train)\n",
    "theta = clf.coef_\n",
    "preds = clf.predict(X_test)"
   ]
  },
  {
   "cell_type": "code",
   "execution_count": null,
   "metadata": {},
   "outputs": [],
   "source": [
    "wordSort = list(zip(theta[:-1], words))\n",
    "wordSort.sort()"
   ]
  },
  {
   "cell_type": "code",
   "execution_count": null,
   "metadata": {},
   "outputs": [],
   "source": [
    "print(\"1,000 most common n-grams\")\n",
    "print(\"--------------------------\")\n",
    "print(\"MSE: \" + str(sum((y_test - preds)**2)/len(y_test)))\n",
    "print()\n",
    "print(\"most negative n-grams\")\n",
    "[print(w) for w in wordSort[:5]]\n",
    "print()\n",
    "print(\"most positive n-grams\")\n",
    "[print(w) for w in wordSort[:-6:-1]]\n",
    "print()"
   ]
  },
  {
   "cell_type": "code",
   "execution_count": null,
   "metadata": {},
   "outputs": [],
   "source": [
    "# Regularized regression\n",
    "clf = linear_model.LogisticRegression()\n",
    "clf.fit(X_train, y_train)\n",
    "preds = clf.predict(X_test)\n",
    "clf.score(X_test, y_test)"
   ]
  },
  {
   "cell_type": "code",
   "execution_count": null,
   "metadata": {},
   "outputs": [],
   "source": []
  }
 ],
 "metadata": {
  "interpreter": {
   "hash": "63fd5069d213b44bf678585dea6b12cceca9941eaf7f819626cde1f2670de90d"
  },
  "kernelspec": {
   "display_name": "Python 3.9.0 64-bit (system)",
   "language": "python",
   "name": "python3"
  },
  "language_info": {
   "codemirror_mode": {
    "name": "ipython",
    "version": 3
   },
   "file_extension": ".py",
   "mimetype": "text/x-python",
   "name": "python",
   "nbconvert_exporter": "python",
   "pygments_lexer": "ipython3",
   "version": "3.9.0"
  },
  "orig_nbformat": 4
 },
 "nbformat": 4,
 "nbformat_minor": 2
}
